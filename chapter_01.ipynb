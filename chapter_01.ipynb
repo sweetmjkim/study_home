{
  "nbformat": 4,
  "nbformat_minor": 0,
  "metadata": {
    "colab": {
      "provenance": []
    },
    "kernelspec": {
      "name": "python3",
      "display_name": "Python 3"
    },
    "language_info": {
      "name": "python"
    }
  },
  "cells": [
    {
      "cell_type": "code",
      "execution_count": 1,
      "metadata": {
        "id": "8NvF8qn12jf5"
      },
      "outputs": [],
      "source": [
        "import gdown"
      ]
    },
    {
      "cell_type": "markdown",
      "source": [
        "# 파이썬으로 CSV 파일 출력하기"
      ],
      "metadata": {
        "id": "G-72Ihx76mAp"
      }
    },
    {
      "cell_type": "markdown",
      "source": [
        "## 파일 인코딩 형식 확인하기 : chardet.detect()함수"
      ],
      "metadata": {
        "id": "zELpEqoy64xV"
      }
    },
    {
      "cell_type": "code",
      "source": [
        "import chardet\n",
        "with open('/content/서울특별시교육청남산도서관 장서 대출목록 (2024년 04월).csv', mode='rb') as f:\n",
        "  d=f.readline()\n",
        "  print(chardet.detect(d))"
      ],
      "metadata": {
        "colab": {
          "base_uri": "https://localhost:8080/"
        },
        "id": "5qUOW-UU22Ie",
        "outputId": "6f492575-1a07-4d39-c58d-5279975f2c88"
      },
      "execution_count": 2,
      "outputs": [
        {
          "output_type": "stream",
          "name": "stdout",
          "text": [
            "{'encoding': 'EUC-KR', 'confidence': 0.99, 'language': 'Korean'}\n"
          ]
        }
      ]
    },
    {
      "cell_type": "markdown",
      "source": [
        "## 인코딩 형식 변경"
      ],
      "metadata": {
        "id": "tT0XHPwR8AU-"
      }
    },
    {
      "cell_type": "code",
      "source": [
        "with open('/content/서울특별시교육청남산도서관 장서 대출목록 (2024년 04월).csv', encoding='EUC-KR') as f:\n",
        "  d=f.readline()\n",
        "  print(f.readline())\n",
        "  print(f.readline())"
      ],
      "metadata": {
        "colab": {
          "base_uri": "https://localhost:8080/"
        },
        "id": "GvWx5Ijr5RYD",
        "outputId": "b8e7929b-3d0f-4d71-96c6-1e89c5c189c1"
      },
      "execution_count": 3,
      "outputs": [
        {
          "output_type": "stream",
          "name": "stdout",
          "text": [
            "\"1\",\"(허영만의)주식 타짜\",\"허영만 글·그림\",\"가디언\",\"2024\",\"9791167781208\",\"\",\"1\",\"2\",\"327.856\",\"1\",\"0\",\"2024-04-24\",\n",
            "\n",
            "\"2\",\"자기 결정을 위한 독서치료 \",\"임성관,민경애,이연실\",\"시간의물레\",\"2023\",\"9788965114499\",\"\",\"9\",\"\",\"029.4\",\"1\",\"0\",\"2024-04-24\",\n",
            "\n"
          ]
        }
      ]
    },
    {
      "cell_type": "markdown",
      "source": [
        "# 데이터프레임 다루기 : 판다스"
      ],
      "metadata": {
        "id": "edbLfR6m9GzU"
      }
    },
    {
      "cell_type": "code",
      "source": [
        "import pandas as pd\n",
        "df = pd.read_csv('/content/서울특별시교육청남산도서관 장서 대출목록 (2024년 04월).csv', encoding='EUC-KR', dtype={'ISBN':str, '주제분류번호':str})"
      ],
      "metadata": {
        "id": "2Tq6Lg3P8d9-"
      },
      "execution_count": 13,
      "outputs": []
    },
    {
      "cell_type": "code",
      "source": [
        "df.head()"
      ],
      "metadata": {
        "id": "M5bV-PSt9MTQ",
        "colab": {
          "base_uri": "https://localhost:8080/",
          "height": 345
        },
        "outputId": "4644f8f5-9471-4eda-d632-637d5bbddf22"
      },
      "execution_count": 10,
      "outputs": [
        {
          "output_type": "execute_result",
          "data": {
            "text/plain": [
              "   번호                                  도서명                   저자  \\\n",
              "0   1                          (허영만의)주식 타짜             허영만 글·그림   \n",
              "1   2                      자기 결정을 위한 독서치료           임성관,민경애,이연실   \n",
              "2   3                         버섯 농장(독서치료용)                  성혜령   \n",
              "3   4  뭉우리돌의 들녘 - 국외독립운동 이야기 : 러시아, 네덜란드 편            김동우 (지은이)   \n",
              "4   5              카네기 인간관계론:인간관계·리더십 바이블   카네기데일 카네기 지음;최염순 옮김   \n",
              "\n",
              "               출판사  발행년도           ISBN  세트 ISBN 부가기호    권   주제분류번호  도서권수  \\\n",
              "0              가디언  2024  9791167781208      NaN    1    2  327.856     1   \n",
              "1            시간의물레  2023  9788965114499      NaN    9  NaN    029.4     1   \n",
              "2               창비  2024  9788936439538      NaN  NaN  NaN    813.7     1   \n",
              "3             수오서재  2024  9791193238196      NaN  NaN  NaN  911.063     1   \n",
              "4  카네기연구소(성공전략연구소)  2021  9791185791067      NaN    0  NaN    199.1     1   \n",
              "\n",
              "   대출건수        등록일자  Unnamed: 13  \n",
              "0     0  2024-04-24          NaN  \n",
              "1     0  2024-04-24          NaN  \n",
              "2     0  2024-04-24          NaN  \n",
              "3     0  2024-04-24          NaN  \n",
              "4     0  2024-04-24          NaN  "
            ],
            "text/html": [
              "\n",
              "  <div id=\"df-23751330-4ec5-4603-a945-793044288d21\" class=\"colab-df-container\">\n",
              "    <div>\n",
              "<style scoped>\n",
              "    .dataframe tbody tr th:only-of-type {\n",
              "        vertical-align: middle;\n",
              "    }\n",
              "\n",
              "    .dataframe tbody tr th {\n",
              "        vertical-align: top;\n",
              "    }\n",
              "\n",
              "    .dataframe thead th {\n",
              "        text-align: right;\n",
              "    }\n",
              "</style>\n",
              "<table border=\"1\" class=\"dataframe\">\n",
              "  <thead>\n",
              "    <tr style=\"text-align: right;\">\n",
              "      <th></th>\n",
              "      <th>번호</th>\n",
              "      <th>도서명</th>\n",
              "      <th>저자</th>\n",
              "      <th>출판사</th>\n",
              "      <th>발행년도</th>\n",
              "      <th>ISBN</th>\n",
              "      <th>세트 ISBN</th>\n",
              "      <th>부가기호</th>\n",
              "      <th>권</th>\n",
              "      <th>주제분류번호</th>\n",
              "      <th>도서권수</th>\n",
              "      <th>대출건수</th>\n",
              "      <th>등록일자</th>\n",
              "      <th>Unnamed: 13</th>\n",
              "    </tr>\n",
              "  </thead>\n",
              "  <tbody>\n",
              "    <tr>\n",
              "      <th>0</th>\n",
              "      <td>1</td>\n",
              "      <td>(허영만의)주식 타짜</td>\n",
              "      <td>허영만 글·그림</td>\n",
              "      <td>가디언</td>\n",
              "      <td>2024</td>\n",
              "      <td>9791167781208</td>\n",
              "      <td>NaN</td>\n",
              "      <td>1</td>\n",
              "      <td>2</td>\n",
              "      <td>327.856</td>\n",
              "      <td>1</td>\n",
              "      <td>0</td>\n",
              "      <td>2024-04-24</td>\n",
              "      <td>NaN</td>\n",
              "    </tr>\n",
              "    <tr>\n",
              "      <th>1</th>\n",
              "      <td>2</td>\n",
              "      <td>자기 결정을 위한 독서치료</td>\n",
              "      <td>임성관,민경애,이연실</td>\n",
              "      <td>시간의물레</td>\n",
              "      <td>2023</td>\n",
              "      <td>9788965114499</td>\n",
              "      <td>NaN</td>\n",
              "      <td>9</td>\n",
              "      <td>NaN</td>\n",
              "      <td>029.4</td>\n",
              "      <td>1</td>\n",
              "      <td>0</td>\n",
              "      <td>2024-04-24</td>\n",
              "      <td>NaN</td>\n",
              "    </tr>\n",
              "    <tr>\n",
              "      <th>2</th>\n",
              "      <td>3</td>\n",
              "      <td>버섯 농장(독서치료용)</td>\n",
              "      <td>성혜령</td>\n",
              "      <td>창비</td>\n",
              "      <td>2024</td>\n",
              "      <td>9788936439538</td>\n",
              "      <td>NaN</td>\n",
              "      <td>NaN</td>\n",
              "      <td>NaN</td>\n",
              "      <td>813.7</td>\n",
              "      <td>1</td>\n",
              "      <td>0</td>\n",
              "      <td>2024-04-24</td>\n",
              "      <td>NaN</td>\n",
              "    </tr>\n",
              "    <tr>\n",
              "      <th>3</th>\n",
              "      <td>4</td>\n",
              "      <td>뭉우리돌의 들녘 - 국외독립운동 이야기 : 러시아, 네덜란드 편</td>\n",
              "      <td>김동우 (지은이)</td>\n",
              "      <td>수오서재</td>\n",
              "      <td>2024</td>\n",
              "      <td>9791193238196</td>\n",
              "      <td>NaN</td>\n",
              "      <td>NaN</td>\n",
              "      <td>NaN</td>\n",
              "      <td>911.063</td>\n",
              "      <td>1</td>\n",
              "      <td>0</td>\n",
              "      <td>2024-04-24</td>\n",
              "      <td>NaN</td>\n",
              "    </tr>\n",
              "    <tr>\n",
              "      <th>4</th>\n",
              "      <td>5</td>\n",
              "      <td>카네기 인간관계론:인간관계·리더십 바이블</td>\n",
              "      <td>카네기데일 카네기 지음;최염순 옮김</td>\n",
              "      <td>카네기연구소(성공전략연구소)</td>\n",
              "      <td>2021</td>\n",
              "      <td>9791185791067</td>\n",
              "      <td>NaN</td>\n",
              "      <td>0</td>\n",
              "      <td>NaN</td>\n",
              "      <td>199.1</td>\n",
              "      <td>1</td>\n",
              "      <td>0</td>\n",
              "      <td>2024-04-24</td>\n",
              "      <td>NaN</td>\n",
              "    </tr>\n",
              "  </tbody>\n",
              "</table>\n",
              "</div>\n",
              "    <div class=\"colab-df-buttons\">\n",
              "\n",
              "  <div class=\"colab-df-container\">\n",
              "    <button class=\"colab-df-convert\" onclick=\"convertToInteractive('df-23751330-4ec5-4603-a945-793044288d21')\"\n",
              "            title=\"Convert this dataframe to an interactive table.\"\n",
              "            style=\"display:none;\">\n",
              "\n",
              "  <svg xmlns=\"http://www.w3.org/2000/svg\" height=\"24px\" viewBox=\"0 -960 960 960\">\n",
              "    <path d=\"M120-120v-720h720v720H120Zm60-500h600v-160H180v160Zm220 220h160v-160H400v160Zm0 220h160v-160H400v160ZM180-400h160v-160H180v160Zm440 0h160v-160H620v160ZM180-180h160v-160H180v160Zm440 0h160v-160H620v160Z\"/>\n",
              "  </svg>\n",
              "    </button>\n",
              "\n",
              "  <style>\n",
              "    .colab-df-container {\n",
              "      display:flex;\n",
              "      gap: 12px;\n",
              "    }\n",
              "\n",
              "    .colab-df-convert {\n",
              "      background-color: #E8F0FE;\n",
              "      border: none;\n",
              "      border-radius: 50%;\n",
              "      cursor: pointer;\n",
              "      display: none;\n",
              "      fill: #1967D2;\n",
              "      height: 32px;\n",
              "      padding: 0 0 0 0;\n",
              "      width: 32px;\n",
              "    }\n",
              "\n",
              "    .colab-df-convert:hover {\n",
              "      background-color: #E2EBFA;\n",
              "      box-shadow: 0px 1px 2px rgba(60, 64, 67, 0.3), 0px 1px 3px 1px rgba(60, 64, 67, 0.15);\n",
              "      fill: #174EA6;\n",
              "    }\n",
              "\n",
              "    .colab-df-buttons div {\n",
              "      margin-bottom: 4px;\n",
              "    }\n",
              "\n",
              "    [theme=dark] .colab-df-convert {\n",
              "      background-color: #3B4455;\n",
              "      fill: #D2E3FC;\n",
              "    }\n",
              "\n",
              "    [theme=dark] .colab-df-convert:hover {\n",
              "      background-color: #434B5C;\n",
              "      box-shadow: 0px 1px 3px 1px rgba(0, 0, 0, 0.15);\n",
              "      filter: drop-shadow(0px 1px 2px rgba(0, 0, 0, 0.3));\n",
              "      fill: #FFFFFF;\n",
              "    }\n",
              "  </style>\n",
              "\n",
              "    <script>\n",
              "      const buttonEl =\n",
              "        document.querySelector('#df-23751330-4ec5-4603-a945-793044288d21 button.colab-df-convert');\n",
              "      buttonEl.style.display =\n",
              "        google.colab.kernel.accessAllowed ? 'block' : 'none';\n",
              "\n",
              "      async function convertToInteractive(key) {\n",
              "        const element = document.querySelector('#df-23751330-4ec5-4603-a945-793044288d21');\n",
              "        const dataTable =\n",
              "          await google.colab.kernel.invokeFunction('convertToInteractive',\n",
              "                                                    [key], {});\n",
              "        if (!dataTable) return;\n",
              "\n",
              "        const docLinkHtml = 'Like what you see? Visit the ' +\n",
              "          '<a target=\"_blank\" href=https://colab.research.google.com/notebooks/data_table.ipynb>data table notebook</a>'\n",
              "          + ' to learn more about interactive tables.';\n",
              "        element.innerHTML = '';\n",
              "        dataTable['output_type'] = 'display_data';\n",
              "        await google.colab.output.renderOutput(dataTable, element);\n",
              "        const docLink = document.createElement('div');\n",
              "        docLink.innerHTML = docLinkHtml;\n",
              "        element.appendChild(docLink);\n",
              "      }\n",
              "    </script>\n",
              "  </div>\n",
              "\n",
              "\n",
              "<div id=\"df-0ad80aaf-b2a0-42d9-980d-457167ececcf\">\n",
              "  <button class=\"colab-df-quickchart\" onclick=\"quickchart('df-0ad80aaf-b2a0-42d9-980d-457167ececcf')\"\n",
              "            title=\"Suggest charts\"\n",
              "            style=\"display:none;\">\n",
              "\n",
              "<svg xmlns=\"http://www.w3.org/2000/svg\" height=\"24px\"viewBox=\"0 0 24 24\"\n",
              "     width=\"24px\">\n",
              "    <g>\n",
              "        <path d=\"M19 3H5c-1.1 0-2 .9-2 2v14c0 1.1.9 2 2 2h14c1.1 0 2-.9 2-2V5c0-1.1-.9-2-2-2zM9 17H7v-7h2v7zm4 0h-2V7h2v10zm4 0h-2v-4h2v4z\"/>\n",
              "    </g>\n",
              "</svg>\n",
              "  </button>\n",
              "\n",
              "<style>\n",
              "  .colab-df-quickchart {\n",
              "      --bg-color: #E8F0FE;\n",
              "      --fill-color: #1967D2;\n",
              "      --hover-bg-color: #E2EBFA;\n",
              "      --hover-fill-color: #174EA6;\n",
              "      --disabled-fill-color: #AAA;\n",
              "      --disabled-bg-color: #DDD;\n",
              "  }\n",
              "\n",
              "  [theme=dark] .colab-df-quickchart {\n",
              "      --bg-color: #3B4455;\n",
              "      --fill-color: #D2E3FC;\n",
              "      --hover-bg-color: #434B5C;\n",
              "      --hover-fill-color: #FFFFFF;\n",
              "      --disabled-bg-color: #3B4455;\n",
              "      --disabled-fill-color: #666;\n",
              "  }\n",
              "\n",
              "  .colab-df-quickchart {\n",
              "    background-color: var(--bg-color);\n",
              "    border: none;\n",
              "    border-radius: 50%;\n",
              "    cursor: pointer;\n",
              "    display: none;\n",
              "    fill: var(--fill-color);\n",
              "    height: 32px;\n",
              "    padding: 0;\n",
              "    width: 32px;\n",
              "  }\n",
              "\n",
              "  .colab-df-quickchart:hover {\n",
              "    background-color: var(--hover-bg-color);\n",
              "    box-shadow: 0 1px 2px rgba(60, 64, 67, 0.3), 0 1px 3px 1px rgba(60, 64, 67, 0.15);\n",
              "    fill: var(--button-hover-fill-color);\n",
              "  }\n",
              "\n",
              "  .colab-df-quickchart-complete:disabled,\n",
              "  .colab-df-quickchart-complete:disabled:hover {\n",
              "    background-color: var(--disabled-bg-color);\n",
              "    fill: var(--disabled-fill-color);\n",
              "    box-shadow: none;\n",
              "  }\n",
              "\n",
              "  .colab-df-spinner {\n",
              "    border: 2px solid var(--fill-color);\n",
              "    border-color: transparent;\n",
              "    border-bottom-color: var(--fill-color);\n",
              "    animation:\n",
              "      spin 1s steps(1) infinite;\n",
              "  }\n",
              "\n",
              "  @keyframes spin {\n",
              "    0% {\n",
              "      border-color: transparent;\n",
              "      border-bottom-color: var(--fill-color);\n",
              "      border-left-color: var(--fill-color);\n",
              "    }\n",
              "    20% {\n",
              "      border-color: transparent;\n",
              "      border-left-color: var(--fill-color);\n",
              "      border-top-color: var(--fill-color);\n",
              "    }\n",
              "    30% {\n",
              "      border-color: transparent;\n",
              "      border-left-color: var(--fill-color);\n",
              "      border-top-color: var(--fill-color);\n",
              "      border-right-color: var(--fill-color);\n",
              "    }\n",
              "    40% {\n",
              "      border-color: transparent;\n",
              "      border-right-color: var(--fill-color);\n",
              "      border-top-color: var(--fill-color);\n",
              "    }\n",
              "    60% {\n",
              "      border-color: transparent;\n",
              "      border-right-color: var(--fill-color);\n",
              "    }\n",
              "    80% {\n",
              "      border-color: transparent;\n",
              "      border-right-color: var(--fill-color);\n",
              "      border-bottom-color: var(--fill-color);\n",
              "    }\n",
              "    90% {\n",
              "      border-color: transparent;\n",
              "      border-bottom-color: var(--fill-color);\n",
              "    }\n",
              "  }\n",
              "</style>\n",
              "\n",
              "  <script>\n",
              "    async function quickchart(key) {\n",
              "      const quickchartButtonEl =\n",
              "        document.querySelector('#' + key + ' button');\n",
              "      quickchartButtonEl.disabled = true;  // To prevent multiple clicks.\n",
              "      quickchartButtonEl.classList.add('colab-df-spinner');\n",
              "      try {\n",
              "        const charts = await google.colab.kernel.invokeFunction(\n",
              "            'suggestCharts', [key], {});\n",
              "      } catch (error) {\n",
              "        console.error('Error during call to suggestCharts:', error);\n",
              "      }\n",
              "      quickchartButtonEl.classList.remove('colab-df-spinner');\n",
              "      quickchartButtonEl.classList.add('colab-df-quickchart-complete');\n",
              "    }\n",
              "    (() => {\n",
              "      let quickchartButtonEl =\n",
              "        document.querySelector('#df-0ad80aaf-b2a0-42d9-980d-457167ececcf button');\n",
              "      quickchartButtonEl.style.display =\n",
              "        google.colab.kernel.accessAllowed ? 'block' : 'none';\n",
              "    })();\n",
              "  </script>\n",
              "</div>\n",
              "\n",
              "    </div>\n",
              "  </div>\n"
            ],
            "application/vnd.google.colaboratory.intrinsic+json": {
              "type": "dataframe",
              "variable_name": "df"
            }
          },
          "metadata": {},
          "execution_count": 10
        }
      ]
    },
    {
      "cell_type": "code",
      "source": [
        "df.to_csv('ns_202404.csv')"
      ],
      "metadata": {
        "id": "8ND94Z4_BQgQ"
      },
      "execution_count": 14,
      "outputs": []
    },
    {
      "cell_type": "code",
      "source": [
        "with open('ns_202404.csv') as f:\n",
        "  for i in range(3) :\n",
        "    print(f.readline(),end='')"
      ],
      "metadata": {
        "colab": {
          "base_uri": "https://localhost:8080/"
        },
        "id": "gVBKy-LfDupV",
        "outputId": "a5194724-1afc-4e3f-cbab-4b1c82ae7006"
      },
      "execution_count": 15,
      "outputs": [
        {
          "output_type": "stream",
          "name": "stdout",
          "text": [
            ",번호,도서명,저자,출판사,발행년도,ISBN,세트 ISBN,부가기호,권,주제분류번호,도서권수,대출건수,등록일자,Unnamed: 13\n",
            "0,1,(허영만의)주식 타짜,허영만 글·그림,가디언,2024,9791167781208,,1,2,327.856,1,0,2024-04-24,\n",
            "1,2,자기 결정을 위한 독서치료 ,\"임성관,민경애,이연실\",시간의물레,2023,9788965114499,,9,,029.4,1,0,2024-04-24,\n"
          ]
        }
      ]
    },
    {
      "cell_type": "code",
      "source": [
        "with open('ns_202404.csv') as f:\n",
        "  for i in range(3) :\n",
        "    print(f.readline())"
      ],
      "metadata": {
        "colab": {
          "base_uri": "https://localhost:8080/"
        },
        "id": "BU9vk9oWEP0k",
        "outputId": "d695cbb6-ada9-4b9e-8c9b-bab6d64f0a83"
      },
      "execution_count": 16,
      "outputs": [
        {
          "output_type": "stream",
          "name": "stdout",
          "text": [
            ",번호,도서명,저자,출판사,발행년도,ISBN,세트 ISBN,부가기호,권,주제분류번호,도서권수,대출건수,등록일자,Unnamed: 13\n",
            "\n",
            "0,1,(허영만의)주식 타짜,허영만 글·그림,가디언,2024,9791167781208,,1,2,327.856,1,0,2024-04-24,\n",
            "\n",
            "1,2,자기 결정을 위한 독서치료 ,\"임성관,민경애,이연실\",시간의물레,2023,9788965114499,,9,,029.4,1,0,2024-04-24,\n",
            "\n"
          ]
        }
      ]
    },
    {
      "cell_type": "code",
      "source": [],
      "metadata": {
        "id": "WW1LpAMcEa_B"
      },
      "execution_count": null,
      "outputs": []
    }
  ]
}